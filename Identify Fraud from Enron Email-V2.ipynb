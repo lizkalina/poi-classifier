{
 "cells": [
  {
   "cell_type": "markdown",
   "metadata": {},
   "source": [
    "# Project: Identifying Fraud from Enron Email"
   ]
  },
  {
   "cell_type": "code",
   "execution_count": 1,
   "metadata": {
    "collapsed": false
   },
   "outputs": [],
   "source": [
    "import pandas as pd\n",
    "import pickle as pk\n",
    "import sys\n",
    "import numpy as np\n",
    "import pdb\n",
    "\n",
    "%matplotlib inline\n",
    "import matplotlib\n",
    "import matplotlib.pyplot as plt\n",
    "import seaborn as sns\n",
    "\n",
    "pd.options.display.max_columns = 1000\n",
    "\n",
    "sys.path.append(\"../tools/\")\n",
    "from feature_format import featureFormat, targetFeatureSplit"
   ]
  },
  {
   "cell_type": "markdown",
   "metadata": {},
   "source": [
    "## Understanding the Dataset\n",
    "\n",
    "### Data Exploration"
   ]
  },
  {
   "cell_type": "code",
   "execution_count": 2,
   "metadata": {
    "collapsed": false
   },
   "outputs": [],
   "source": [
    "## Load dataset\n",
    "with open(\"final_project_dataset.pkl\", \"r\") as data_file:\n",
    "    data_dict = pk.load(data_file)\n",
    "    \n",
    "my_dataset = data_dict"
   ]
  },
  {
   "cell_type": "code",
   "execution_count": 3,
   "metadata": {
    "collapsed": false
   },
   "outputs": [
    {
     "data": {
      "text/html": [
       "<div>\n",
       "<style>\n",
       "    .dataframe thead tr:only-child th {\n",
       "        text-align: right;\n",
       "    }\n",
       "\n",
       "    .dataframe thead th {\n",
       "        text-align: left;\n",
       "    }\n",
       "\n",
       "    .dataframe tbody tr th {\n",
       "        vertical-align: top;\n",
       "    }\n",
       "</style>\n",
       "<table border=\"1\" class=\"dataframe\">\n",
       "  <thead>\n",
       "    <tr style=\"text-align: right;\">\n",
       "      <th></th>\n",
       "      <th>salary</th>\n",
       "      <th>to_messages</th>\n",
       "      <th>deferral_payments</th>\n",
       "      <th>total_payments</th>\n",
       "      <th>exercised_stock_options</th>\n",
       "      <th>bonus</th>\n",
       "      <th>restricted_stock</th>\n",
       "      <th>shared_receipt_with_poi</th>\n",
       "      <th>restricted_stock_deferred</th>\n",
       "      <th>total_stock_value</th>\n",
       "      <th>expenses</th>\n",
       "      <th>loan_advances</th>\n",
       "      <th>from_messages</th>\n",
       "      <th>other</th>\n",
       "      <th>from_this_person_to_poi</th>\n",
       "      <th>poi</th>\n",
       "      <th>director_fees</th>\n",
       "      <th>deferred_income</th>\n",
       "      <th>long_term_incentive</th>\n",
       "      <th>email_address</th>\n",
       "      <th>from_poi_to_this_person</th>\n",
       "    </tr>\n",
       "  </thead>\n",
       "  <tbody>\n",
       "    <tr>\n",
       "      <th>ALLEN PHILLIP K</th>\n",
       "      <td>201955</td>\n",
       "      <td>2902</td>\n",
       "      <td>2869717</td>\n",
       "      <td>4484442</td>\n",
       "      <td>1729541</td>\n",
       "      <td>4175000</td>\n",
       "      <td>126027</td>\n",
       "      <td>1407</td>\n",
       "      <td>-126027</td>\n",
       "      <td>1729541</td>\n",
       "      <td>13868</td>\n",
       "      <td>NaN</td>\n",
       "      <td>2195</td>\n",
       "      <td>152</td>\n",
       "      <td>65</td>\n",
       "      <td>False</td>\n",
       "      <td>NaN</td>\n",
       "      <td>-3081055</td>\n",
       "      <td>304805</td>\n",
       "      <td>phillip.allen@enron.com</td>\n",
       "      <td>47</td>\n",
       "    </tr>\n",
       "    <tr>\n",
       "      <th>BADUM JAMES P</th>\n",
       "      <td>NaN</td>\n",
       "      <td>NaN</td>\n",
       "      <td>178980</td>\n",
       "      <td>182466</td>\n",
       "      <td>257817</td>\n",
       "      <td>NaN</td>\n",
       "      <td>NaN</td>\n",
       "      <td>NaN</td>\n",
       "      <td>NaN</td>\n",
       "      <td>257817</td>\n",
       "      <td>3486</td>\n",
       "      <td>NaN</td>\n",
       "      <td>NaN</td>\n",
       "      <td>NaN</td>\n",
       "      <td>NaN</td>\n",
       "      <td>False</td>\n",
       "      <td>NaN</td>\n",
       "      <td>NaN</td>\n",
       "      <td>NaN</td>\n",
       "      <td>NaN</td>\n",
       "      <td>NaN</td>\n",
       "    </tr>\n",
       "    <tr>\n",
       "      <th>BANNANTINE JAMES M</th>\n",
       "      <td>477</td>\n",
       "      <td>566</td>\n",
       "      <td>NaN</td>\n",
       "      <td>916197</td>\n",
       "      <td>4046157</td>\n",
       "      <td>NaN</td>\n",
       "      <td>1757552</td>\n",
       "      <td>465</td>\n",
       "      <td>-560222</td>\n",
       "      <td>5243487</td>\n",
       "      <td>56301</td>\n",
       "      <td>NaN</td>\n",
       "      <td>29</td>\n",
       "      <td>864523</td>\n",
       "      <td>0</td>\n",
       "      <td>False</td>\n",
       "      <td>NaN</td>\n",
       "      <td>-5104</td>\n",
       "      <td>NaN</td>\n",
       "      <td>james.bannantine@enron.com</td>\n",
       "      <td>39</td>\n",
       "    </tr>\n",
       "    <tr>\n",
       "      <th>BAXTER JOHN C</th>\n",
       "      <td>267102</td>\n",
       "      <td>NaN</td>\n",
       "      <td>1295738</td>\n",
       "      <td>5634343</td>\n",
       "      <td>6680544</td>\n",
       "      <td>1200000</td>\n",
       "      <td>3942714</td>\n",
       "      <td>NaN</td>\n",
       "      <td>NaN</td>\n",
       "      <td>10623258</td>\n",
       "      <td>11200</td>\n",
       "      <td>NaN</td>\n",
       "      <td>NaN</td>\n",
       "      <td>2660303</td>\n",
       "      <td>NaN</td>\n",
       "      <td>False</td>\n",
       "      <td>NaN</td>\n",
       "      <td>-1386055</td>\n",
       "      <td>1586055</td>\n",
       "      <td>NaN</td>\n",
       "      <td>NaN</td>\n",
       "    </tr>\n",
       "    <tr>\n",
       "      <th>BAY FRANKLIN R</th>\n",
       "      <td>239671</td>\n",
       "      <td>NaN</td>\n",
       "      <td>260455</td>\n",
       "      <td>827696</td>\n",
       "      <td>NaN</td>\n",
       "      <td>400000</td>\n",
       "      <td>145796</td>\n",
       "      <td>NaN</td>\n",
       "      <td>-82782</td>\n",
       "      <td>63014</td>\n",
       "      <td>129142</td>\n",
       "      <td>NaN</td>\n",
       "      <td>NaN</td>\n",
       "      <td>69</td>\n",
       "      <td>NaN</td>\n",
       "      <td>False</td>\n",
       "      <td>NaN</td>\n",
       "      <td>-201641</td>\n",
       "      <td>NaN</td>\n",
       "      <td>frank.bay@enron.com</td>\n",
       "      <td>NaN</td>\n",
       "    </tr>\n",
       "  </tbody>\n",
       "</table>\n",
       "</div>"
      ],
      "text/plain": [
       "                    salary to_messages deferral_payments total_payments  \\\n",
       "ALLEN PHILLIP K     201955        2902           2869717        4484442   \n",
       "BADUM JAMES P          NaN         NaN            178980         182466   \n",
       "BANNANTINE JAMES M     477         566               NaN         916197   \n",
       "BAXTER JOHN C       267102         NaN           1295738        5634343   \n",
       "BAY FRANKLIN R      239671         NaN            260455         827696   \n",
       "\n",
       "                   exercised_stock_options    bonus restricted_stock  \\\n",
       "ALLEN PHILLIP K                    1729541  4175000           126027   \n",
       "BADUM JAMES P                       257817      NaN              NaN   \n",
       "BANNANTINE JAMES M                 4046157      NaN          1757552   \n",
       "BAXTER JOHN C                      6680544  1200000          3942714   \n",
       "BAY FRANKLIN R                         NaN   400000           145796   \n",
       "\n",
       "                   shared_receipt_with_poi restricted_stock_deferred  \\\n",
       "ALLEN PHILLIP K                       1407                   -126027   \n",
       "BADUM JAMES P                          NaN                       NaN   \n",
       "BANNANTINE JAMES M                     465                   -560222   \n",
       "BAXTER JOHN C                          NaN                       NaN   \n",
       "BAY FRANKLIN R                         NaN                    -82782   \n",
       "\n",
       "                   total_stock_value expenses loan_advances from_messages  \\\n",
       "ALLEN PHILLIP K              1729541    13868           NaN          2195   \n",
       "BADUM JAMES P                 257817     3486           NaN           NaN   \n",
       "BANNANTINE JAMES M           5243487    56301           NaN            29   \n",
       "BAXTER JOHN C               10623258    11200           NaN           NaN   \n",
       "BAY FRANKLIN R                 63014   129142           NaN           NaN   \n",
       "\n",
       "                      other from_this_person_to_poi    poi director_fees  \\\n",
       "ALLEN PHILLIP K         152                      65  False           NaN   \n",
       "BADUM JAMES P           NaN                     NaN  False           NaN   \n",
       "BANNANTINE JAMES M   864523                       0  False           NaN   \n",
       "BAXTER JOHN C       2660303                     NaN  False           NaN   \n",
       "BAY FRANKLIN R           69                     NaN  False           NaN   \n",
       "\n",
       "                   deferred_income long_term_incentive  \\\n",
       "ALLEN PHILLIP K           -3081055              304805   \n",
       "BADUM JAMES P                  NaN                 NaN   \n",
       "BANNANTINE JAMES M           -5104                 NaN   \n",
       "BAXTER JOHN C             -1386055             1586055   \n",
       "BAY FRANKLIN R             -201641                 NaN   \n",
       "\n",
       "                                 email_address from_poi_to_this_person  \n",
       "ALLEN PHILLIP K        phillip.allen@enron.com                      47  \n",
       "BADUM JAMES P                              NaN                     NaN  \n",
       "BANNANTINE JAMES M  james.bannantine@enron.com                      39  \n",
       "BAXTER JOHN C                              NaN                     NaN  \n",
       "BAY FRANKLIN R             frank.bay@enron.com                     NaN  "
      ]
     },
     "execution_count": 3,
     "metadata": {},
     "output_type": "execute_result"
    }
   ],
   "source": [
    "## Load the data dictionary into a dataframe\n",
    "data = pd.DataFrame.from_dict(my_dataset,orient='index')\n",
    "data.head()"
   ]
  },
  {
   "cell_type": "code",
   "execution_count": 4,
   "metadata": {
    "collapsed": false
   },
   "outputs": [
    {
     "data": {
      "text/plain": [
       "3066"
      ]
     },
     "execution_count": 4,
     "metadata": {},
     "output_type": "execute_result"
    }
   ],
   "source": [
    "## Total Number of Data Points\n",
    "data.size"
   ]
  },
  {
   "cell_type": "code",
   "execution_count": 5,
   "metadata": {
    "collapsed": false
   },
   "outputs": [
    {
     "data": {
      "text/plain": [
       "21"
      ]
     },
     "execution_count": 5,
     "metadata": {},
     "output_type": "execute_result"
    }
   ],
   "source": [
    "## Number of Available Features\n",
    "len(data.columns)"
   ]
  },
  {
   "cell_type": "code",
   "execution_count": 6,
   "metadata": {
    "collapsed": false
   },
   "outputs": [
    {
     "data": {
      "text/plain": [
       "['bonus',\n",
       " 'deferral_payments',\n",
       " 'deferred_income',\n",
       " 'director_fees',\n",
       " 'email_address',\n",
       " 'exercised_stock_options',\n",
       " 'expenses',\n",
       " 'from_messages',\n",
       " 'from_poi_to_this_person',\n",
       " 'from_this_person_to_poi',\n",
       " 'loan_advances',\n",
       " 'long_term_incentive',\n",
       " 'other',\n",
       " 'poi',\n",
       " 'restricted_stock',\n",
       " 'restricted_stock_deferred',\n",
       " 'salary',\n",
       " 'shared_receipt_with_poi',\n",
       " 'to_messages',\n",
       " 'total_payments',\n",
       " 'total_stock_value']"
      ]
     },
     "execution_count": 6,
     "metadata": {},
     "output_type": "execute_result"
    }
   ],
   "source": [
    "## Available Features\n",
    "sorted(list(data.columns))"
   ]
  },
  {
   "cell_type": "code",
   "execution_count": 7,
   "metadata": {
    "collapsed": false
   },
   "outputs": [
    {
     "data": {
      "text/html": [
       "<div>\n",
       "<style>\n",
       "    .dataframe thead tr:only-child th {\n",
       "        text-align: right;\n",
       "    }\n",
       "\n",
       "    .dataframe thead th {\n",
       "        text-align: left;\n",
       "    }\n",
       "\n",
       "    .dataframe tbody tr th {\n",
       "        vertical-align: top;\n",
       "    }\n",
       "</style>\n",
       "<table border=\"1\" class=\"dataframe\">\n",
       "  <thead>\n",
       "    <tr style=\"text-align: right;\">\n",
       "      <th></th>\n",
       "      <th>salary</th>\n",
       "      <th>to_messages</th>\n",
       "      <th>deferral_payments</th>\n",
       "      <th>total_payments</th>\n",
       "      <th>exercised_stock_options</th>\n",
       "      <th>bonus</th>\n",
       "      <th>restricted_stock</th>\n",
       "      <th>shared_receipt_with_poi</th>\n",
       "      <th>restricted_stock_deferred</th>\n",
       "      <th>total_stock_value</th>\n",
       "      <th>expenses</th>\n",
       "      <th>loan_advances</th>\n",
       "      <th>from_messages</th>\n",
       "      <th>other</th>\n",
       "      <th>from_this_person_to_poi</th>\n",
       "      <th>poi</th>\n",
       "      <th>director_fees</th>\n",
       "      <th>deferred_income</th>\n",
       "      <th>long_term_incentive</th>\n",
       "      <th>email_address</th>\n",
       "      <th>from_poi_to_this_person</th>\n",
       "    </tr>\n",
       "  </thead>\n",
       "  <tbody>\n",
       "    <tr>\n",
       "      <th>ALLEN PHILLIP K</th>\n",
       "      <td>201955</td>\n",
       "      <td>2902</td>\n",
       "      <td>2869717</td>\n",
       "      <td>4484442</td>\n",
       "      <td>1729541</td>\n",
       "      <td>4175000</td>\n",
       "      <td>126027</td>\n",
       "      <td>1407</td>\n",
       "      <td>-126027</td>\n",
       "      <td>1729541</td>\n",
       "      <td>13868</td>\n",
       "      <td>NaN</td>\n",
       "      <td>2195</td>\n",
       "      <td>152</td>\n",
       "      <td>65</td>\n",
       "      <td>False</td>\n",
       "      <td>NaN</td>\n",
       "      <td>-3081055</td>\n",
       "      <td>304805</td>\n",
       "      <td>phillip.allen@enron.com</td>\n",
       "      <td>47</td>\n",
       "    </tr>\n",
       "    <tr>\n",
       "      <th>BADUM JAMES P</th>\n",
       "      <td>NaN</td>\n",
       "      <td>NaN</td>\n",
       "      <td>178980</td>\n",
       "      <td>182466</td>\n",
       "      <td>257817</td>\n",
       "      <td>NaN</td>\n",
       "      <td>NaN</td>\n",
       "      <td>NaN</td>\n",
       "      <td>NaN</td>\n",
       "      <td>257817</td>\n",
       "      <td>3486</td>\n",
       "      <td>NaN</td>\n",
       "      <td>NaN</td>\n",
       "      <td>NaN</td>\n",
       "      <td>NaN</td>\n",
       "      <td>False</td>\n",
       "      <td>NaN</td>\n",
       "      <td>NaN</td>\n",
       "      <td>NaN</td>\n",
       "      <td>NaN</td>\n",
       "      <td>NaN</td>\n",
       "    </tr>\n",
       "    <tr>\n",
       "      <th>BANNANTINE JAMES M</th>\n",
       "      <td>477</td>\n",
       "      <td>566</td>\n",
       "      <td>NaN</td>\n",
       "      <td>916197</td>\n",
       "      <td>4046157</td>\n",
       "      <td>NaN</td>\n",
       "      <td>1757552</td>\n",
       "      <td>465</td>\n",
       "      <td>-560222</td>\n",
       "      <td>5243487</td>\n",
       "      <td>56301</td>\n",
       "      <td>NaN</td>\n",
       "      <td>29</td>\n",
       "      <td>864523</td>\n",
       "      <td>0</td>\n",
       "      <td>False</td>\n",
       "      <td>NaN</td>\n",
       "      <td>-5104</td>\n",
       "      <td>NaN</td>\n",
       "      <td>james.bannantine@enron.com</td>\n",
       "      <td>39</td>\n",
       "    </tr>\n",
       "    <tr>\n",
       "      <th>BAXTER JOHN C</th>\n",
       "      <td>267102</td>\n",
       "      <td>NaN</td>\n",
       "      <td>1295738</td>\n",
       "      <td>5634343</td>\n",
       "      <td>6680544</td>\n",
       "      <td>1200000</td>\n",
       "      <td>3942714</td>\n",
       "      <td>NaN</td>\n",
       "      <td>NaN</td>\n",
       "      <td>10623258</td>\n",
       "      <td>11200</td>\n",
       "      <td>NaN</td>\n",
       "      <td>NaN</td>\n",
       "      <td>2660303</td>\n",
       "      <td>NaN</td>\n",
       "      <td>False</td>\n",
       "      <td>NaN</td>\n",
       "      <td>-1386055</td>\n",
       "      <td>1586055</td>\n",
       "      <td>NaN</td>\n",
       "      <td>NaN</td>\n",
       "    </tr>\n",
       "    <tr>\n",
       "      <th>BAY FRANKLIN R</th>\n",
       "      <td>239671</td>\n",
       "      <td>NaN</td>\n",
       "      <td>260455</td>\n",
       "      <td>827696</td>\n",
       "      <td>NaN</td>\n",
       "      <td>400000</td>\n",
       "      <td>145796</td>\n",
       "      <td>NaN</td>\n",
       "      <td>-82782</td>\n",
       "      <td>63014</td>\n",
       "      <td>129142</td>\n",
       "      <td>NaN</td>\n",
       "      <td>NaN</td>\n",
       "      <td>69</td>\n",
       "      <td>NaN</td>\n",
       "      <td>False</td>\n",
       "      <td>NaN</td>\n",
       "      <td>-201641</td>\n",
       "      <td>NaN</td>\n",
       "      <td>frank.bay@enron.com</td>\n",
       "      <td>NaN</td>\n",
       "    </tr>\n",
       "  </tbody>\n",
       "</table>\n",
       "</div>"
      ],
      "text/plain": [
       "                    salary to_messages deferral_payments total_payments  \\\n",
       "ALLEN PHILLIP K     201955        2902           2869717        4484442   \n",
       "BADUM JAMES P          NaN         NaN            178980         182466   \n",
       "BANNANTINE JAMES M     477         566               NaN         916197   \n",
       "BAXTER JOHN C       267102         NaN           1295738        5634343   \n",
       "BAY FRANKLIN R      239671         NaN            260455         827696   \n",
       "\n",
       "                   exercised_stock_options    bonus restricted_stock  \\\n",
       "ALLEN PHILLIP K                    1729541  4175000           126027   \n",
       "BADUM JAMES P                       257817      NaN              NaN   \n",
       "BANNANTINE JAMES M                 4046157      NaN          1757552   \n",
       "BAXTER JOHN C                      6680544  1200000          3942714   \n",
       "BAY FRANKLIN R                         NaN   400000           145796   \n",
       "\n",
       "                   shared_receipt_with_poi restricted_stock_deferred  \\\n",
       "ALLEN PHILLIP K                       1407                   -126027   \n",
       "BADUM JAMES P                          NaN                       NaN   \n",
       "BANNANTINE JAMES M                     465                   -560222   \n",
       "BAXTER JOHN C                          NaN                       NaN   \n",
       "BAY FRANKLIN R                         NaN                    -82782   \n",
       "\n",
       "                   total_stock_value expenses loan_advances from_messages  \\\n",
       "ALLEN PHILLIP K              1729541    13868           NaN          2195   \n",
       "BADUM JAMES P                 257817     3486           NaN           NaN   \n",
       "BANNANTINE JAMES M           5243487    56301           NaN            29   \n",
       "BAXTER JOHN C               10623258    11200           NaN           NaN   \n",
       "BAY FRANKLIN R                 63014   129142           NaN           NaN   \n",
       "\n",
       "                      other from_this_person_to_poi    poi director_fees  \\\n",
       "ALLEN PHILLIP K         152                      65  False           NaN   \n",
       "BADUM JAMES P           NaN                     NaN  False           NaN   \n",
       "BANNANTINE JAMES M   864523                       0  False           NaN   \n",
       "BAXTER JOHN C       2660303                     NaN  False           NaN   \n",
       "BAY FRANKLIN R           69                     NaN  False           NaN   \n",
       "\n",
       "                   deferred_income long_term_incentive  \\\n",
       "ALLEN PHILLIP K           -3081055              304805   \n",
       "BADUM JAMES P                  NaN                 NaN   \n",
       "BANNANTINE JAMES M           -5104                 NaN   \n",
       "BAXTER JOHN C             -1386055             1586055   \n",
       "BAY FRANKLIN R             -201641                 NaN   \n",
       "\n",
       "                                 email_address from_poi_to_this_person  \n",
       "ALLEN PHILLIP K        phillip.allen@enron.com                      47  \n",
       "BADUM JAMES P                              NaN                     NaN  \n",
       "BANNANTINE JAMES M  james.bannantine@enron.com                      39  \n",
       "BAXTER JOHN C                              NaN                     NaN  \n",
       "BAY FRANKLIN R             frank.bay@enron.com                     NaN  "
      ]
     },
     "execution_count": 7,
     "metadata": {},
     "output_type": "execute_result"
    }
   ],
   "source": [
    "data.head()"
   ]
  },
  {
   "cell_type": "code",
   "execution_count": 8,
   "metadata": {
    "collapsed": false
   },
   "outputs": [
    {
     "data": {
      "text/plain": [
       "False    128\n",
       "True      18\n",
       "Name: poi, dtype: int64"
      ]
     },
     "execution_count": 8,
     "metadata": {},
     "output_type": "execute_result"
    }
   ],
   "source": [
    "## Allocation across classes (POI/non-POI)\n",
    "data['poi'].value_counts()"
   ]
  },
  {
   "cell_type": "code",
   "execution_count": 9,
   "metadata": {
    "collapsed": false
   },
   "outputs": [
    {
     "data": {
      "text/plain": [
       "loan_advances                142\n",
       "director_fees                129\n",
       "restricted_stock_deferred    128\n",
       "deferral_payments            107\n",
       "deferred_income               97\n",
       "long_term_incentive           80\n",
       "bonus                         64\n",
       "from_poi_to_this_person       60\n",
       "shared_receipt_with_poi       60\n",
       "to_messages                   60\n",
       "from_this_person_to_poi       60\n",
       "from_messages                 60\n",
       "other                         53\n",
       "expenses                      51\n",
       "salary                        51\n",
       "exercised_stock_options       44\n",
       "restricted_stock              36\n",
       "email_address                 35\n",
       "total_payments                21\n",
       "total_stock_value             20\n",
       "poi                            0\n",
       "dtype: int64"
      ]
     },
     "execution_count": 9,
     "metadata": {},
     "output_type": "execute_result"
    }
   ],
   "source": [
    "## Features with missing values\n",
    "data = data.replace('NaN',np.nan)\n",
    "data.isnull().sum().sort_values(ascending = False)"
   ]
  },
  {
   "cell_type": "code",
   "execution_count": 10,
   "metadata": {
    "collapsed": false
   },
   "outputs": [],
   "source": [
    "## Replace NA values with zeros\n",
    "data = data.replace(np.nan,0.0)"
   ]
  },
  {
   "cell_type": "code",
   "execution_count": 11,
   "metadata": {
    "collapsed": false
   },
   "outputs": [],
   "source": [
    "## Replace negative values with zeros\n",
    "num = data._get_numeric_data()\n",
    "\n",
    "num[num < 0] = 0"
   ]
  },
  {
   "cell_type": "markdown",
   "metadata": {},
   "source": [
    "### Outliers"
   ]
  },
  {
   "cell_type": "code",
   "execution_count": 12,
   "metadata": {
    "collapsed": false
   },
   "outputs": [
    {
     "data": {
      "text/html": [
       "<div>\n",
       "<style>\n",
       "    .dataframe thead tr:only-child th {\n",
       "        text-align: right;\n",
       "    }\n",
       "\n",
       "    .dataframe thead th {\n",
       "        text-align: left;\n",
       "    }\n",
       "\n",
       "    .dataframe tbody tr th {\n",
       "        vertical-align: top;\n",
       "    }\n",
       "</style>\n",
       "<table border=\"1\" class=\"dataframe\">\n",
       "  <thead>\n",
       "    <tr style=\"text-align: right;\">\n",
       "      <th></th>\n",
       "      <th>salary</th>\n",
       "      <th>to_messages</th>\n",
       "      <th>deferral_payments</th>\n",
       "      <th>total_payments</th>\n",
       "      <th>exercised_stock_options</th>\n",
       "      <th>bonus</th>\n",
       "      <th>restricted_stock</th>\n",
       "      <th>shared_receipt_with_poi</th>\n",
       "      <th>restricted_stock_deferred</th>\n",
       "      <th>total_stock_value</th>\n",
       "      <th>expenses</th>\n",
       "      <th>loan_advances</th>\n",
       "      <th>from_messages</th>\n",
       "      <th>other</th>\n",
       "      <th>from_this_person_to_poi</th>\n",
       "      <th>poi</th>\n",
       "      <th>director_fees</th>\n",
       "      <th>deferred_income</th>\n",
       "      <th>long_term_incentive</th>\n",
       "      <th>email_address</th>\n",
       "      <th>from_poi_to_this_person</th>\n",
       "    </tr>\n",
       "  </thead>\n",
       "  <tbody>\n",
       "    <tr>\n",
       "      <th>TOTAL</th>\n",
       "      <td>26704229.0</td>\n",
       "      <td>0.0</td>\n",
       "      <td>32083396.0</td>\n",
       "      <td>309886585.0</td>\n",
       "      <td>311764000.0</td>\n",
       "      <td>97343619.0</td>\n",
       "      <td>130322299.0</td>\n",
       "      <td>0.0</td>\n",
       "      <td>0.0</td>\n",
       "      <td>434509511.0</td>\n",
       "      <td>5235198.0</td>\n",
       "      <td>83925000.0</td>\n",
       "      <td>0.0</td>\n",
       "      <td>42667589.0</td>\n",
       "      <td>0.0</td>\n",
       "      <td>False</td>\n",
       "      <td>1398517.0</td>\n",
       "      <td>0.0</td>\n",
       "      <td>48521928.0</td>\n",
       "      <td>0</td>\n",
       "      <td>0.0</td>\n",
       "    </tr>\n",
       "  </tbody>\n",
       "</table>\n",
       "</div>"
      ],
      "text/plain": [
       "           salary  to_messages  deferral_payments  total_payments  \\\n",
       "TOTAL  26704229.0          0.0         32083396.0     309886585.0   \n",
       "\n",
       "       exercised_stock_options       bonus  restricted_stock  \\\n",
       "TOTAL              311764000.0  97343619.0       130322299.0   \n",
       "\n",
       "       shared_receipt_with_poi  restricted_stock_deferred  total_stock_value  \\\n",
       "TOTAL                      0.0                        0.0        434509511.0   \n",
       "\n",
       "        expenses  loan_advances  from_messages       other  \\\n",
       "TOTAL  5235198.0     83925000.0            0.0  42667589.0   \n",
       "\n",
       "       from_this_person_to_poi    poi  director_fees  deferred_income  \\\n",
       "TOTAL                      0.0  False      1398517.0              0.0   \n",
       "\n",
       "       long_term_incentive email_address  from_poi_to_this_person  \n",
       "TOTAL           48521928.0             0                      0.0  "
      ]
     },
     "execution_count": 12,
     "metadata": {},
     "output_type": "execute_result"
    }
   ],
   "source": [
    "## Removing the 'TOTAL' row\n",
    "data[data['salary'] == data['salary'].max()]"
   ]
  },
  {
   "cell_type": "code",
   "execution_count": 13,
   "metadata": {
    "collapsed": false
   },
   "outputs": [],
   "source": [
    "data = data.drop('TOTAL')"
   ]
  },
  {
   "cell_type": "code",
   "execution_count": 14,
   "metadata": {
    "collapsed": false
   },
   "outputs": [
    {
     "data": {
      "text/html": [
       "<div>\n",
       "<style>\n",
       "    .dataframe thead tr:only-child th {\n",
       "        text-align: right;\n",
       "    }\n",
       "\n",
       "    .dataframe thead th {\n",
       "        text-align: left;\n",
       "    }\n",
       "\n",
       "    .dataframe tbody tr th {\n",
       "        vertical-align: top;\n",
       "    }\n",
       "</style>\n",
       "<table border=\"1\" class=\"dataframe\">\n",
       "  <thead>\n",
       "    <tr style=\"text-align: right;\">\n",
       "      <th></th>\n",
       "      <th>salary</th>\n",
       "      <th>to_messages</th>\n",
       "      <th>deferral_payments</th>\n",
       "      <th>total_payments</th>\n",
       "      <th>exercised_stock_options</th>\n",
       "      <th>bonus</th>\n",
       "      <th>restricted_stock</th>\n",
       "      <th>shared_receipt_with_poi</th>\n",
       "      <th>restricted_stock_deferred</th>\n",
       "      <th>total_stock_value</th>\n",
       "      <th>expenses</th>\n",
       "      <th>loan_advances</th>\n",
       "      <th>from_messages</th>\n",
       "      <th>other</th>\n",
       "      <th>from_this_person_to_poi</th>\n",
       "      <th>poi</th>\n",
       "      <th>director_fees</th>\n",
       "      <th>deferred_income</th>\n",
       "      <th>long_term_incentive</th>\n",
       "      <th>email_address</th>\n",
       "      <th>from_poi_to_this_person</th>\n",
       "    </tr>\n",
       "  </thead>\n",
       "  <tbody>\n",
       "    <tr>\n",
       "      <th>THE TRAVEL AGENCY IN THE PARK</th>\n",
       "      <td>0.0</td>\n",
       "      <td>0.0</td>\n",
       "      <td>0.0</td>\n",
       "      <td>362096.0</td>\n",
       "      <td>0.0</td>\n",
       "      <td>0.0</td>\n",
       "      <td>0.0</td>\n",
       "      <td>0.0</td>\n",
       "      <td>0.0</td>\n",
       "      <td>0.0</td>\n",
       "      <td>0.0</td>\n",
       "      <td>0.0</td>\n",
       "      <td>0.0</td>\n",
       "      <td>362096.0</td>\n",
       "      <td>0.0</td>\n",
       "      <td>False</td>\n",
       "      <td>0.0</td>\n",
       "      <td>0.0</td>\n",
       "      <td>0.0</td>\n",
       "      <td>0</td>\n",
       "      <td>0.0</td>\n",
       "    </tr>\n",
       "  </tbody>\n",
       "</table>\n",
       "</div>"
      ],
      "text/plain": [
       "                               salary  to_messages  deferral_payments  \\\n",
       "THE TRAVEL AGENCY IN THE PARK     0.0          0.0                0.0   \n",
       "\n",
       "                               total_payments  exercised_stock_options  bonus  \\\n",
       "THE TRAVEL AGENCY IN THE PARK        362096.0                      0.0    0.0   \n",
       "\n",
       "                               restricted_stock  shared_receipt_with_poi  \\\n",
       "THE TRAVEL AGENCY IN THE PARK               0.0                      0.0   \n",
       "\n",
       "                               restricted_stock_deferred  total_stock_value  \\\n",
       "THE TRAVEL AGENCY IN THE PARK                        0.0                0.0   \n",
       "\n",
       "                               expenses  loan_advances  from_messages  \\\n",
       "THE TRAVEL AGENCY IN THE PARK       0.0            0.0            0.0   \n",
       "\n",
       "                                  other  from_this_person_to_poi    poi  \\\n",
       "THE TRAVEL AGENCY IN THE PARK  362096.0                      0.0  False   \n",
       "\n",
       "                               director_fees  deferred_income  \\\n",
       "THE TRAVEL AGENCY IN THE PARK            0.0              0.0   \n",
       "\n",
       "                               long_term_incentive email_address  \\\n",
       "THE TRAVEL AGENCY IN THE PARK                  0.0             0   \n",
       "\n",
       "                               from_poi_to_this_person  \n",
       "THE TRAVEL AGENCY IN THE PARK                      0.0  "
      ]
     },
     "execution_count": 14,
     "metadata": {},
     "output_type": "execute_result"
    }
   ],
   "source": [
    "## Removing the 'THE TRAVEL AGENCY IN THE PARK' since it isn't an individual\n",
    "data[data.index == 'THE TRAVEL AGENCY IN THE PARK']"
   ]
  },
  {
   "cell_type": "code",
   "execution_count": 15,
   "metadata": {
    "collapsed": false
   },
   "outputs": [],
   "source": [
    "data = data.drop('THE TRAVEL AGENCY IN THE PARK')"
   ]
  },
  {
   "cell_type": "code",
   "execution_count": 16,
   "metadata": {
    "collapsed": false
   },
   "outputs": [],
   "source": [
    "# Used the outlierCleaner from earlier exercises to remove 15% of point with largest residual error\n",
    "\n",
    "def outlierCleaner(preds, feature_vals):\n",
    "\n",
    "    from scipy.stats import percentileofscore\n",
    "\n",
    "    cleaned_data = []\n",
    "\n",
    "    diffs = (np.array(feature_vals) - np.array(preds)) ** 2\n",
    "    diffs = diffs.flatten()\n",
    "    feature_vals = feature_vals.flatten()\n",
    "    \n",
    "    data = zip(feature_vals, diffs)\n",
    "    \n",
    "    percentiles = [percentileofscore(diffs, i) for i in diffs]\n",
    "    \n",
    "    \n",
    "    cleaned_data = [ val if percentileofscore(diffs, diff) < 85 else 0.0 for (val,diff) in data]\n",
    "\n",
    "    return cleaned_data"
   ]
  },
  {
   "cell_type": "code",
   "execution_count": 17,
   "metadata": {
    "collapsed": true
   },
   "outputs": [],
   "source": [
    "# Numeric Columns\n",
    "rel_cols = ['bonus','deferral_payments',\n",
    "'deferred_income',\n",
    " 'director_fees',\n",
    " 'exercised_stock_options',\n",
    " 'expenses',\n",
    " 'from_messages',\n",
    " 'from_poi_to_this_person',\n",
    " 'from_this_person_to_poi',\n",
    " 'loan_advances',\n",
    " 'long_term_incentive',\n",
    " 'other',\n",
    " 'restricted_stock',\n",
    " 'restricted_stock_deferred',\n",
    " 'salary',\n",
    " 'shared_receipt_with_poi',\n",
    " 'to_messages',\n",
    " 'total_payments',\n",
    " 'total_stock_value']"
   ]
  },
  {
   "cell_type": "code",
   "execution_count": 18,
   "metadata": {
    "collapsed": false
   },
   "outputs": [],
   "source": [
    "from sklearn.linear_model import LinearRegression\n",
    "\n",
    "for f in rel_cols:\n",
    "    curr_feat = np.reshape( np.array(data[f]), (len(data[f]), 1))\n",
    "    poi = np.reshape( np.array(data.poi), (len(data.poi), 1))\n",
    "\n",
    "    reg = LinearRegression()\n",
    "    reg.fit(curr_feat, poi)\n",
    "\n",
    "    pred = reg.predict(curr_feat)\n",
    "    \n",
    "    cleaned_data = outlierCleaner(pred,curr_feat)\n",
    "    \n",
    "    data[f] = cleaned_data"
   ]
  },
  {
   "cell_type": "markdown",
   "metadata": {
    "collapsed": true
   },
   "source": [
    "# Free-Response #1\n",
    "\n",
    "The goal of this project is to classify which employees are persons-of-interest (POIs) in the Enron fraud trial. I intend to test out different machine learning models to classify each employee in the Enron dataset corpus as either a POI or a non-POI. The Enron dataset was originally released by the Federal Energy Regulatory Commission during the investigation. There are 146 total rows and 21 columns with 18 of the records labeled as POIs. A persons-of-interest is defined as a person who was indicted, reached a settlement or plea deal with the government, or testified in exchange for prosecution immunity.\n",
    "\n",
    "#### 21 Features\n",
    "\n",
    "> financial features: ['salary', 'deferral_payments', 'total_payments', 'loan_advances', 'bonus', 'restricted_stock_deferred', 'deferred_income', 'total_stock_value', 'expenses', 'exercised_stock_options', 'other', 'long_term_incentive', 'restricted_stock', 'director_fees'] (all units are in US dollars)\n",
    "\n",
    "> email features: ['to_messages', 'email_address', 'from_poi_to_this_person', 'from_messages', 'from_this_person_to_poi', 'shared_receipt_with_poi']\n",
    "\n",
    "> POI label: [‘poi’]\n",
    "\n",
    "#### Identifying Outliers\n",
    "\n",
    "To identify outliers, I first read through the index of names to flag any values that weren't a person's name. Two labels stuck out: 'TOTAL' and 'THE TRAVEL AGENCY IN THE PARK.' 'TOTAL' was clearly the cumulative sum for each column in the dataset, and upon investigating 'THE TRAVEL AGENCY IN THE PARK', I discovered that it was a company owned by Kenneth Lay's sister Sharon. I removed both of these columns since they were not possible POIs. After this manual cleanup, I modified the outlierCleaner function from earlier exercises to remove the 15% of points with the largest residual error. An additional cleanup step I performed was to replace NA and negative values with zeros."
   ]
  },
  {
   "cell_type": "markdown",
   "metadata": {},
   "source": [
    "## Optimize Feature Selection/Engineering"
   ]
  },
  {
   "cell_type": "markdown",
   "metadata": {},
   "source": [
    "### Create new features "
   ]
  },
  {
   "cell_type": "code",
   "execution_count": 19,
   "metadata": {
    "collapsed": false
   },
   "outputs": [],
   "source": [
    "# Financial Columns\n",
    "fin_cols = ['bonus',\n",
    "            'deferral_payments',\n",
    "            'deferred_income',\n",
    "            'director_fees',\n",
    "            'exercised_stock_options',\n",
    "            'expenses',\n",
    "            'loan_advances',\n",
    "            'long_term_incentive',\n",
    "            'restricted_stock',\n",
    "            'restricted_stock_deferred',\n",
    "            'salary',\n",
    "            'total_payments',\n",
    "            'total_stock_value']"
   ]
  },
  {
   "cell_type": "code",
   "execution_count": 20,
   "metadata": {
    "collapsed": false
   },
   "outputs": [
    {
     "name": "stdout",
     "output_type": "stream",
     "text": [
      "Explained Variance Ratio: [ 0.57327293  0.24269572]\n",
      "Cumulative Variance 0.815968652538\n"
     ]
    },
    {
     "data": {
      "image/png": "[encoded data removed]",
      "text/plain": [
       "<matplotlib.figure.Figure at 0x1122cc790>"
      ]
     },
     "metadata": {},
     "output_type": "display_data"
    }
   ],
   "source": [
    "### Use PCA to create new featuress\n",
    "from sklearn.decomposition import PCA\n",
    "\n",
    "pca = PCA(n_components = 2,svd_solver='randomized')\n",
    "pca.fit(data[fin_cols])\n",
    "pca_values = pca.transform(data[fin_cols])\n",
    "\n",
    "first_pc = pca.components_[0]\n",
    "second_pc = pca.components_[1]\n",
    "\n",
    "pca_df = pd.DataFrame(pca_values,\n",
    "                      index = data.index)\n",
    "\n",
    "for ii, jj in zip(pca_values, data.values):\n",
    "    plt.scatter(first_pc[0]*ii[0], first_pc[1]*ii[0], color='r')\n",
    "    plt.scatter(first_pc[0]*ii[1], first_pc[1]*ii[1], color='c')\n",
    "    plt.scatter(jj[0], jj[1], color='b')\n",
    "    \n",
    "for ii, jj in zip(pca_values, data.values):\n",
    "    plt.scatter(second_pc[0]*ii[0], second_pc[1]*ii[0], color='r')\n",
    "    plt.scatter(second_pc[0]*ii[1], second_pc[1]*ii[1], color='c')\n",
    "    plt.scatter(jj[0], jj[1], color='b')\n",
    "    \n",
    "print 'Explained Variance Ratio:', pca.explained_variance_ratio_\n",
    "print 'Cumulative Variance', pca.explained_variance_ratio_.cumsum()[1]"
   ]
  },
  {
   "cell_type": "code",
   "execution_count": 21,
   "metadata": {
    "collapsed": true
   },
   "outputs": [],
   "source": [
    "data = data.merge(pca_df,left_index=True,right_index=True)"
   ]
  },
  {
   "cell_type": "code",
   "execution_count": 22,
   "metadata": {
    "collapsed": false
   },
   "outputs": [],
   "source": [
    "new_cols = data.columns.difference(['poi','email_address'])"
   ]
  },
  {
   "cell_type": "markdown",
   "metadata": {},
   "source": [
    "### Intelligently select features "
   ]
  },
  {
   "cell_type": "code",
   "execution_count": 23,
   "metadata": {
    "collapsed": false
   },
   "outputs": [
    {
     "name": "stderr",
     "output_type": "stream",
     "text": [
      "/Users/lizkalina/anaconda/lib/python2.7/site-packages/sklearn/feature_selection/univariate_selection.py:113: UserWarning: Features [ 4  5 11 15] are constant.\n",
      "  UserWarning)\n",
      "/Users/lizkalina/anaconda/lib/python2.7/site-packages/sklearn/feature_selection/univariate_selection.py:114: RuntimeWarning: invalid value encountered in divide\n",
      "  f = msb / msw\n"
     ]
    }
   ],
   "source": [
    "from sklearn.feature_selection import SelectPercentile, f_classif\n",
    "\n",
    "selector = SelectPercentile(f_classif,percentile = 20)\n",
    "selector.fit(data[new_cols],data['poi'])\n",
    "features_transformed = selector.transform(data[new_cols])\n",
    "\n",
    "selector_scores = pd.DataFrame(selector.scores_,index=data[new_cols].columns,columns=['score']) \\\n",
    "                    .sort_values('score',ascending=False)"
   ]
  },
  {
   "cell_type": "code",
   "execution_count": 24,
   "metadata": {
    "collapsed": false
   },
   "outputs": [
    {
     "data": {
      "text/plain": [
       "4"
      ]
     },
     "execution_count": 24,
     "metadata": {},
     "output_type": "execute_result"
    }
   ],
   "source": [
    "# Number of features selected\n",
    "len(features_transformed[0])"
   ]
  },
  {
   "cell_type": "code",
   "execution_count": 26,
   "metadata": {
    "collapsed": false
   },
   "outputs": [
    {
     "data": {
      "text/html": [
       "<div>\n",
       "<style>\n",
       "    .dataframe thead tr:only-child th {\n",
       "        text-align: right;\n",
       "    }\n",
       "\n",
       "    .dataframe thead th {\n",
       "        text-align: left;\n",
       "    }\n",
       "\n",
       "    .dataframe tbody tr th {\n",
       "        vertical-align: top;\n",
       "    }\n",
       "</style>\n",
       "<table border=\"1\" class=\"dataframe\">\n",
       "  <thead>\n",
       "    <tr style=\"text-align: right;\">\n",
       "      <th></th>\n",
       "      <th>score</th>\n",
       "    </tr>\n",
       "  </thead>\n",
       "  <tbody>\n",
       "    <tr>\n",
       "      <th>other</th>\n",
       "      <td>14.784826</td>\n",
       "    </tr>\n",
       "    <tr>\n",
       "      <th>from_messages</th>\n",
       "      <td>9.325131</td>\n",
       "    </tr>\n",
       "    <tr>\n",
       "      <th>from_this_person_to_poi</th>\n",
       "      <td>7.926285</td>\n",
       "    </tr>\n",
       "    <tr>\n",
       "      <th>to_messages</th>\n",
       "      <td>6.664916</td>\n",
       "    </tr>\n",
       "    <tr>\n",
       "      <th>total_payments</th>\n",
       "      <td>6.533898</td>\n",
       "    </tr>\n",
       "    <tr>\n",
       "      <th>expenses</th>\n",
       "      <td>5.843789</td>\n",
       "    </tr>\n",
       "    <tr>\n",
       "      <th>1</th>\n",
       "      <td>4.808586</td>\n",
       "    </tr>\n",
       "    <tr>\n",
       "      <th>from_poi_to_this_person</th>\n",
       "      <td>4.791838</td>\n",
       "    </tr>\n",
       "    <tr>\n",
       "      <th>shared_receipt_with_poi</th>\n",
       "      <td>4.139225</td>\n",
       "    </tr>\n",
       "    <tr>\n",
       "      <th>restricted_stock</th>\n",
       "      <td>3.592454</td>\n",
       "    </tr>\n",
       "    <tr>\n",
       "      <th>salary</th>\n",
       "      <td>2.259814</td>\n",
       "    </tr>\n",
       "    <tr>\n",
       "      <th>deferral_payments</th>\n",
       "      <td>0.848974</td>\n",
       "    </tr>\n",
       "    <tr>\n",
       "      <th>long_term_incentive</th>\n",
       "      <td>0.808163</td>\n",
       "    </tr>\n",
       "    <tr>\n",
       "      <th>exercised_stock_options</th>\n",
       "      <td>0.598132</td>\n",
       "    </tr>\n",
       "    <tr>\n",
       "      <th>total_stock_value</th>\n",
       "      <td>0.311016</td>\n",
       "    </tr>\n",
       "    <tr>\n",
       "      <th>0</th>\n",
       "      <td>0.282606</td>\n",
       "    </tr>\n",
       "    <tr>\n",
       "      <th>bonus</th>\n",
       "      <td>0.086184</td>\n",
       "    </tr>\n",
       "    <tr>\n",
       "      <th>deferred_income</th>\n",
       "      <td>NaN</td>\n",
       "    </tr>\n",
       "    <tr>\n",
       "      <th>director_fees</th>\n",
       "      <td>NaN</td>\n",
       "    </tr>\n",
       "    <tr>\n",
       "      <th>loan_advances</th>\n",
       "      <td>NaN</td>\n",
       "    </tr>\n",
       "    <tr>\n",
       "      <th>restricted_stock_deferred</th>\n",
       "      <td>NaN</td>\n",
       "    </tr>\n",
       "  </tbody>\n",
       "</table>\n",
       "</div>"
      ],
      "text/plain": [
       "                               score\n",
       "other                      14.784826\n",
       "from_messages               9.325131\n",
       "from_this_person_to_poi     7.926285\n",
       "to_messages                 6.664916\n",
       "total_payments              6.533898\n",
       "expenses                    5.843789\n",
       "1                           4.808586\n",
       "from_poi_to_this_person     4.791838\n",
       "shared_receipt_with_poi     4.139225\n",
       "restricted_stock            3.592454\n",
       "salary                      2.259814\n",
       "deferral_payments           0.848974\n",
       "long_term_incentive         0.808163\n",
       "exercised_stock_options     0.598132\n",
       "total_stock_value           0.311016\n",
       "0                           0.282606\n",
       "bonus                       0.086184\n",
       "deferred_income                  NaN\n",
       "director_fees                    NaN\n",
       "loan_advances                    NaN\n",
       "restricted_stock_deferred        NaN"
      ]
     },
     "execution_count": 26,
     "metadata": {},
     "output_type": "execute_result"
    }
   ],
   "source": [
    "selector_scores"
   ]
  },
  {
   "cell_type": "markdown",
   "metadata": {},
   "source": [
    "### Properly scale features "
   ]
  },
  {
   "cell_type": "code",
   "execution_count": 25,
   "metadata": {
    "collapsed": false
   },
   "outputs": [],
   "source": [
    "from sklearn.preprocessing import MinMaxScaler\n",
    "\n",
    "scaler = MinMaxScaler()\n",
    "rescaled_weight = scaler.fit_transform(features_transformed)"
   ]
  },
  {
   "cell_type": "markdown",
   "metadata": {},
   "source": [
    "# Free-Response #2\n",
    "\n",
    "#### New Features\n",
    "To create new features, I performed principal component analysis (PCA) on the financial features in the ENRON dataset. I chose to focus on the financial features because they make a bulk of the data and each employee's compensation could be tied to their potential POI status. I wanted to see if deriving the major patterns in these features by reducing their dimensionality would make my algorithm perform better by eliminating some of the noise. Using the PCA module from sklearn, I fit the financial features to two new components, which retained roughly 82% of the datasets original variance. The features created using PCA were then added to the dataset and included in the feature selection.\n",
    "\n",
    "Ultimately, feature selection did not select these new features as the most relevant. Below in the revision section, I trained my final model with the addition of the two new features and compared it to the original performance; both the Precision and Recall scores decreased making the new F1 Score with PCA features 0.33.\n",
    "\n",
    "#### Feature Selection\n",
    "In order to select the features to use in my model, I used the SelectPercentile module to select the 20% of features with the highest ANOVA F-value scores, which resulted in 4 features — 'other', 'from_messages', 'from_this_person_to_poi' and 'to_messages'. I concluded 20% was the optimal percentile after testing many percentiles including 0.10, 0.15, 0.25, 0.30, 0.5, 0.75. All of these percentiles resulted in a worse model performance measured by the F1 Score. Feature scores from my selection process are listed above.\n",
    "\n",
    "#### Feature Scaling\n",
    "As a prepatory step before picking an algorithm, I scaled the selected features with the MinMaxScaler module to scale features to a uniform range (i.e. 0 - 1), which is necessary for some algorithms to ensure that numerically larger features won't automatically become the main predictor."
   ]
  },
  {
   "cell_type": "code",
   "execution_count": 100,
   "metadata": {
    "collapsed": false
   },
   "outputs": [
    {
     "data": {
      "text/html": [
       "<div>\n",
       "<style>\n",
       "    .dataframe thead tr:only-child th {\n",
       "        text-align: right;\n",
       "    }\n",
       "\n",
       "    .dataframe thead th {\n",
       "        text-align: left;\n",
       "    }\n",
       "\n",
       "    .dataframe tbody tr th {\n",
       "        vertical-align: top;\n",
       "    }\n",
       "</style>\n",
       "<table border=\"1\" class=\"dataframe\">\n",
       "  <thead>\n",
       "    <tr style=\"text-align: right;\">\n",
       "      <th></th>\n",
       "      <th>classifier</th>\n",
       "      <th>accuracy</th>\n",
       "      <th>precision</th>\n",
       "      <th>recall</th>\n",
       "      <th>f1_score</th>\n",
       "    </tr>\n",
       "  </thead>\n",
       "  <tbody>\n",
       "    <tr>\n",
       "      <th>w_pca</th>\n",
       "      <td>DecisionTreeClassifier(class_weight='balanced'...</td>\n",
       "      <td>0.862069</td>\n",
       "      <td>0.25</td>\n",
       "      <td>0.5</td>\n",
       "      <td>0.333333</td>\n",
       "    </tr>\n",
       "    <tr>\n",
       "      <th>4</th>\n",
       "      <td>KNeighborsClassifier(algorithm='auto', leaf_si...</td>\n",
       "      <td>0.896552</td>\n",
       "      <td>0.4</td>\n",
       "      <td>1</td>\n",
       "      <td>0.571429</td>\n",
       "    </tr>\n",
       "    <tr>\n",
       "      <th>5</th>\n",
       "      <td>DecisionTreeClassifier(class_weight='balanced'...</td>\n",
       "      <td>0.862069</td>\n",
       "      <td>0.333333</td>\n",
       "      <td>1</td>\n",
       "      <td>0.5</td>\n",
       "    </tr>\n",
       "  </tbody>\n",
       "</table>\n",
       "</div>"
      ],
      "text/plain": [
       "                                              classifier  accuracy precision  \\\n",
       "w_pca  DecisionTreeClassifier(class_weight='balanced'...  0.862069      0.25   \n",
       "4      KNeighborsClassifier(algorithm='auto', leaf_si...  0.896552       0.4   \n",
       "5      DecisionTreeClassifier(class_weight='balanced'...  0.862069  0.333333   \n",
       "\n",
       "      recall  f1_score  \n",
       "w_pca    0.5  0.333333  \n",
       "4          1  0.571429  \n",
       "5          1       0.5  "
      ]
     },
     "execution_count": 100,
     "metadata": {},
     "output_type": "execute_result"
    }
   ],
   "source": [
    "## Revision: Algorithm Performance with and without new features\n",
    "\n",
    "from sklearn import metrics\n",
    "\n",
    "pca_cols = ['other','from_messages','from_this_person_to_poi','to_messages',0,1]\n",
    "\n",
    "selector = SelectPercentile(f_classif,percentile = 100)\n",
    "selector.fit(data[pca_cols],data['poi'])\n",
    "pca_features = selector.transform(data[pca_cols])\n",
    "\n",
    "pca_f_train, pca_f_test, pca_labels_train, pca_labels_test = model_selection.train_test_split(pca_features,data['poi'], test_size=0.2, random_state=67)\n",
    "\n",
    "pca_metrics_df = pd.DataFrame(columns=['classifier','accuracy','precision','recall','f1_score'],index=['w_pca'])\n",
    "\n",
    "curr = DecisionTreeClassifier(class_weight='balanced', criterion='gini', max_depth=3,\n",
    "            max_features=None, max_leaf_nodes=None,\n",
    "            min_impurity_split=1e-07, min_samples_leaf=2,\n",
    "            min_samples_split=5, min_weight_fraction_leaf=0.0,\n",
    "            presort=True, random_state=5, splitter='best')\n",
    "\n",
    "curr = curr.fit(pca_f_train,pca_labels_train)\n",
    "pca_y_guess = curr.predict(pca_f_test)\n",
    "\n",
    "pca_metrics_df.loc['w_pca','classifier'] = curr\n",
    "pca_metrics_df.loc['w_pca','accuracy'] = metrics.accuracy_score(pca_labels_test,pca_y_guess)\n",
    "pca_metrics_df.loc['w_pca','precision'] = metrics.precision_score(pca_labels_test,pca_y_guess)\n",
    "pca_metrics_df.loc['w_pca','recall'] = metrics.recall_score(pca_labels_test,pca_y_guess)\n",
    "pca_metrics_df.loc['w_pca','f1_score'] = metrics.f1_score(pca_labels_test,pca_y_guess) \n",
    "\n",
    "pd.concat([pca_metrics_df,passing_clfs])"
   ]
  },
  {
   "cell_type": "markdown",
   "metadata": {},
   "source": [
    "## Pick and Tune an Algorithm"
   ]
  },
  {
   "cell_type": "markdown",
   "metadata": {},
   "source": [
    "### Pick an algorithm"
   ]
  },
  {
   "cell_type": "code",
   "execution_count": 27,
   "metadata": {
    "collapsed": false
   },
   "outputs": [],
   "source": [
    "from sklearn import model_selection\n",
    "\n",
    "classifiers = []\n",
    "\n",
    "features_train, features_test, labels_train, labels_test = model_selection.train_test_split(rescaled_weight,data['poi'], test_size=0.2, random_state=67)"
   ]
  },
  {
   "cell_type": "code",
   "execution_count": 28,
   "metadata": {
    "collapsed": false
   },
   "outputs": [
    {
     "data": {
      "text/plain": [
       "0.82758620689655171"
      ]
     },
     "execution_count": 28,
     "metadata": {},
     "output_type": "execute_result"
    }
   ],
   "source": [
    "from sklearn.tree import DecisionTreeClassifier\n",
    "\n",
    "clf = DecisionTreeClassifier()\n",
    "clf.fit(features_train,labels_train)\n",
    "\n",
    "classifiers.append(clf)\n",
    "\n",
    "clf.score(features_test,labels_test)"
   ]
  },
  {
   "cell_type": "code",
   "execution_count": 29,
   "metadata": {
    "collapsed": false
   },
   "outputs": [
    {
     "data": {
      "text/plain": [
       "0.86206896551724133"
      ]
     },
     "execution_count": 29,
     "metadata": {},
     "output_type": "execute_result"
    }
   ],
   "source": [
    "from sklearn.naive_bayes import GaussianNB\n",
    "\n",
    "clf = GaussianNB()\n",
    "clf.fit(features_train,labels_train)\n",
    "\n",
    "classifiers.append(clf)\n",
    "\n",
    "clf.score(features_test,labels_test,)"
   ]
  },
  {
   "cell_type": "code",
   "execution_count": 30,
   "metadata": {
    "collapsed": false
   },
   "outputs": [
    {
     "data": {
      "text/plain": [
       "0.89655172413793105"
      ]
     },
     "execution_count": 30,
     "metadata": {},
     "output_type": "execute_result"
    }
   ],
   "source": [
    "from sklearn.neighbors import KNeighborsClassifier\n",
    "clf = KNeighborsClassifier()\n",
    "clf.fit(features_train,labels_train)\n",
    "\n",
    "classifiers.append(clf)\n",
    "\n",
    "clf.score(features_test,labels_test)"
   ]
  },
  {
   "cell_type": "code",
   "execution_count": 31,
   "metadata": {
    "collapsed": false
   },
   "outputs": [
    {
     "data": {
      "text/plain": [
       "0.82758620689655171"
      ]
     },
     "execution_count": 31,
     "metadata": {},
     "output_type": "execute_result"
    }
   ],
   "source": [
    "import os\n",
    "os.environ['PATH'] = os.environ['PATH'] + ';C:\\\\Program Files\\\\mingw-w64\\\\x86_64-5.3.0-posix-seh-rt_v4-rev0\\\\mingw64\\\\bin'\n",
    "\n",
    "from xgboost import XGBClassifier\n",
    "\n",
    "clf = XGBClassifier()\n",
    "clf.fit(features_train,labels_train)\n",
    "\n",
    "classifiers.append(clf)\n",
    "\n",
    "clf.score(features_test,labels_test)"
   ]
  },
  {
   "cell_type": "markdown",
   "metadata": {},
   "source": [
    "# Free-Response #3\n",
    "\n",
    "Before testing any models, I split my selected feature data into a training set (80%) and a test set (20%). I trained several models with the training set, and in the following section, I will test the model's performance with the test set. The models I tried were: DecisionTreeClassifier, GaussianNB, KNeighborsClassifier and XGBClassifier. The accuracy  was high across all models; however, this was misleading due to the highly skewed classes where non-POI examples make up 87.5% of the dataset. In order to more accurately capture performance, I ended up using the precision, recall and F1 scores to determine each models performance. "
   ]
  },
  {
   "cell_type": "code",
   "execution_count": 32,
   "metadata": {
    "collapsed": false
   },
   "outputs": [
    {
     "data": {
      "text/plain": [
       "False    0.875\n",
       "True     0.125\n",
       "Name: poi, dtype: float64"
      ]
     },
     "execution_count": 32,
     "metadata": {},
     "output_type": "execute_result"
    }
   ],
   "source": [
    "data['poi'].value_counts()/data['poi'].count()"
   ]
  },
  {
   "cell_type": "markdown",
   "metadata": {},
   "source": [
    "### Tune the algorithm"
   ]
  },
  {
   "cell_type": "code",
   "execution_count": 33,
   "metadata": {
    "collapsed": false
   },
   "outputs": [
    {
     "name": "stderr",
     "output_type": "stream",
     "text": [
      "/Users/lizkalina/anaconda/lib/python2.7/site-packages/sklearn/metrics/classification.py:1113: UndefinedMetricWarning: F-score is ill-defined and being set to 0.0 due to no predicted samples.\n",
      "  'precision', 'predicted', average, warn_for)\n"
     ]
    },
    {
     "name": "stdout",
     "output_type": "stream",
     "text": [
      "Best estimator found by grid search:\n",
      "KNeighborsClassifier(algorithm='auto', leaf_size=30, metric='minkowski',\n",
      "           metric_params=None, n_jobs=1, n_neighbors=1, p=2,\n",
      "           weights='uniform')\n"
     ]
    }
   ],
   "source": [
    "from sklearn.model_selection import GridSearchCV\n",
    "\n",
    "param_grid = {'n_neighbors': [1,5],\n",
    "             'algorithm':['auto','ball_tree', 'kd_tree'],\n",
    "             'n_jobs':[1,5],\n",
    "             'weights':['uniform','distance']}\n",
    "\n",
    "clf = GridSearchCV(KNeighborsClassifier(), param_grid, scoring='f1')\n",
    "clf = clf.fit(features_train,labels_train)\n",
    "\n",
    "best_kneighbors = clf.best_estimator_\n",
    "classifiers.append(best_kneighbors)\n",
    "\n",
    "print \"Best estimator found by grid search:\"\n",
    "print best_kneighbors"
   ]
  },
  {
   "cell_type": "code",
   "execution_count": 34,
   "metadata": {
    "collapsed": false
   },
   "outputs": [
    {
     "name": "stdout",
     "output_type": "stream",
     "text": [
      "Best estimator found by grid search:\n",
      "DecisionTreeClassifier(class_weight='balanced', criterion='gini', max_depth=3,\n",
      "            max_features=None, max_leaf_nodes=None,\n",
      "            min_impurity_split=1e-07, min_samples_leaf=2,\n",
      "            min_samples_split=5, min_weight_fraction_leaf=0.0,\n",
      "            presort=True, random_state=5, splitter='best')\n"
     ]
    }
   ],
   "source": [
    "param_grid = {\"criterion\": [\"gini\", \"entropy\"],\n",
    "              \"min_samples_split\": [2,3,5],\n",
    "              \"max_depth\": [2,3,5,10],\n",
    "              \"min_samples_leaf\": [2, 5, 10,15,20],\n",
    "              \"random_state\": [None, 5],\n",
    "              \"presort\": [True],\n",
    "              'class_weight':['balanced',{True:9,False:1},{True:8,False:2},{True:7,False:3},{True:6,False:4}]\n",
    "              }\n",
    "\n",
    "clf = GridSearchCV(DecisionTreeClassifier(), param_grid, scoring='f1')\n",
    "clf = clf.fit(features_train,labels_train)\n",
    "\n",
    "best_decision_tree = clf.best_estimator_\n",
    "classifiers.append(best_decision_tree)\n",
    "\n",
    "print \"Best estimator found by grid search:\"\n",
    "print best_decision_tree"
   ]
  },
  {
   "cell_type": "code",
   "execution_count": 35,
   "metadata": {
    "collapsed": false
   },
   "outputs": [
    {
     "data": {
      "text/plain": [
       "array([ 0.28486638,  0.14328137,  0.48773773,  0.08411452])"
      ]
     },
     "execution_count": 35,
     "metadata": {},
     "output_type": "execute_result"
    }
   ],
   "source": [
    "# Demonstrates the importance of each feature: 'other','from_messages','from_this_person_to_poi','to_messages'\n",
    "best_decision_tree.tree_.compute_feature_importances()"
   ]
  },
  {
   "cell_type": "markdown",
   "metadata": {},
   "source": [
    "# Free-Response #4\n",
    "\n",
    "Parameter tuning is the process of selecting the best parameters for an algorithm to optimize its performance, and is important in creating a model which accurately captures a dataset's patterns. There are many challenges in Machine Learning that require parameters in a model to be modified, and many of these parameters may impact one another. To automate this process, there are packages (such as GridCV in sklearn) which allow you to exhaustively test parameters to determine the optimal values to make your model perform the best based on a defined metric (such as the F1 Score).\n",
    "\n",
    "In the section above, I tuned the KNeighborsClassifier and DecisionTreeClassifier models using the GridCV module. This module let's you provide a classifier, a parameter dictionary and a scoring function, and then does an exhaustive search returning the combination of parameters that lead to the best model performance.\n",
    "\n",
    "For KNeighbors, I tuned 'n_neighbors', 'algorithm', 'n_jobs' and 'weights' which returned:\n",
    "\n",
    "> KNeighborsClassifier(algorithm='auto', leaf_size=30, metric='minkowski',\n",
    "           metric_params=None, n_jobs=1, n_neighbors=1, p=2,\n",
    "           weights='uniform')\n",
    "\n",
    "For DecisionTree, I tuned 'criterion', 'min_samples_split', 'max_depth', 'min_samples_leaf', 'random_state', 'presort' and 'class_weight' which returned:\n",
    "\n",
    "\n",
    "\n",
    "> DecisionTreeClassifier(class_weight='balanced', criterion='gini', max_depth=3,\n",
    "            max_features=None, max_leaf_nodes=None,\n",
    "            min_impurity_split=1e-07, min_samples_leaf=2,\n",
    "            min_samples_split=5, min_weight_fraction_leaf=0.0,\n",
    "            presort=True, random_state=5, splitter='best')\n",
    "\n",
    "With the DecisionTree, I was most concerned with the skewed classes, so I tested many values for the 'class_weight' parameter including ['balanced',{True:9,False:1},{True:8,False:2},{True:7,False:3},{True:6,False:4}]. In the end, the best performing value was 'balanced.'"
   ]
  },
  {
   "cell_type": "markdown",
   "metadata": {},
   "source": [
    "## Validate and Evaluate"
   ]
  },
  {
   "cell_type": "markdown",
   "metadata": {},
   "source": [
    "### Algorithm Performance"
   ]
  },
  {
   "cell_type": "code",
   "execution_count": 36,
   "metadata": {
    "collapsed": false
   },
   "outputs": [],
   "source": [
    "from sklearn import metrics\n",
    "\n",
    "metrics_df = pd.DataFrame(columns=['classifier','accuracy','precision','recall','f1_score'])\n",
    "\n",
    "for idx, clf in enumerate(classifiers):\n",
    "    curr = clf\n",
    "    y_guess = curr.predict(features_test)\n",
    "\n",
    "    metrics_df.loc[idx,'classifier'] = curr\n",
    "    metrics_df.loc[idx,'accuracy'] = metrics.accuracy_score(labels_test,y_guess)\n",
    "    metrics_df.loc[idx,'precision'] = metrics.precision_score(labels_test,y_guess)\n",
    "    metrics_df.loc[idx,'recall'] = metrics.recall_score(labels_test,y_guess)\n",
    "    metrics_df.loc[idx,'f1_score'] = metrics.f1_score(labels_test,y_guess)    "
   ]
  },
  {
   "cell_type": "markdown",
   "metadata": {},
   "source": [
    "### Usage of Evaluation Metrics"
   ]
  },
  {
   "cell_type": "code",
   "execution_count": 37,
   "metadata": {
    "collapsed": false
   },
   "outputs": [
    {
     "data": {
      "text/html": [
       "<div>\n",
       "<style>\n",
       "    .dataframe thead tr:only-child th {\n",
       "        text-align: right;\n",
       "    }\n",
       "\n",
       "    .dataframe thead th {\n",
       "        text-align: left;\n",
       "    }\n",
       "\n",
       "    .dataframe tbody tr th {\n",
       "        vertical-align: top;\n",
       "    }\n",
       "</style>\n",
       "<table border=\"1\" class=\"dataframe\">\n",
       "  <thead>\n",
       "    <tr style=\"text-align: right;\">\n",
       "      <th></th>\n",
       "      <th>classifier</th>\n",
       "      <th>accuracy</th>\n",
       "      <th>precision</th>\n",
       "      <th>recall</th>\n",
       "      <th>f1_score</th>\n",
       "    </tr>\n",
       "  </thead>\n",
       "  <tbody>\n",
       "    <tr>\n",
       "      <th>4</th>\n",
       "      <td>KNeighborsClassifier(algorithm='auto', leaf_si...</td>\n",
       "      <td>0.896552</td>\n",
       "      <td>0.4</td>\n",
       "      <td>1</td>\n",
       "      <td>0.571429</td>\n",
       "    </tr>\n",
       "    <tr>\n",
       "      <th>5</th>\n",
       "      <td>DecisionTreeClassifier(class_weight='balanced'...</td>\n",
       "      <td>0.862069</td>\n",
       "      <td>0.333333</td>\n",
       "      <td>1</td>\n",
       "      <td>0.5</td>\n",
       "    </tr>\n",
       "  </tbody>\n",
       "</table>\n",
       "</div>"
      ],
      "text/plain": [
       "                                          classifier  accuracy precision  \\\n",
       "4  KNeighborsClassifier(algorithm='auto', leaf_si...  0.896552       0.4   \n",
       "5  DecisionTreeClassifier(class_weight='balanced'...  0.862069  0.333333   \n",
       "\n",
       "  recall  f1_score  \n",
       "4      1  0.571429  \n",
       "5      1       0.5  "
      ]
     },
     "execution_count": 37,
     "metadata": {},
     "output_type": "execute_result"
    }
   ],
   "source": [
    "# 0.3 cutoff based on rubric requirements\n",
    "passing_clfs = metrics_df[(metrics_df.precision > 0.3) & (metrics_df.recall > 0.3)]\n",
    "passing_clfs"
   ]
  },
  {
   "cell_type": "markdown",
   "metadata": {},
   "source": [
    "### Validation Strategy"
   ]
  },
  {
   "cell_type": "code",
   "execution_count": 38,
   "metadata": {
    "collapsed": false
   },
   "outputs": [
    {
     "data": {
      "image/png": "[encoded data removed]",
      "text/plain": [
       "<matplotlib.figure.Figure at 0x1132e1810>"
      ]
     },
     "metadata": {},
     "output_type": "display_data"
    },
    {
     "data": {
      "image/png": "[encoded data removed]",
      "text/plain": [
       "<matplotlib.figure.Figure at 0x1135fc090>"
      ]
     },
     "metadata": {},
     "output_type": "display_data"
    }
   ],
   "source": [
    "from sklearn.model_selection import learning_curve\n",
    "from sklearn.model_selection import ShuffleSplit\n",
    "\n",
    "def plot_learning_curve(estimator, title, X, y, ylim=None, cv=None,\n",
    "                        n_jobs=20, train_sizes=np.linspace(.1, 1.0, 5)):\n",
    "    \n",
    "    plt.figure()\n",
    "    plt.title(title)\n",
    "    if ylim is not None:\n",
    "        plt.ylim(*ylim)\n",
    "    plt.xlabel(\"Training examples\")\n",
    "    plt.ylabel(\"Score\")\n",
    "    train_sizes, train_scores, test_scores = learning_curve(\n",
    "        estimator, X, y, cv=cv, n_jobs=n_jobs, train_sizes=train_sizes)\n",
    "    train_scores_mean = np.mean(train_scores, axis=1)\n",
    "    train_scores_std = np.std(train_scores, axis=1)\n",
    "    test_scores_mean = np.mean(test_scores, axis=1)\n",
    "    test_scores_std = np.std(test_scores, axis=1)\n",
    "    plt.grid()\n",
    "\n",
    "    plt.fill_between(train_sizes, train_scores_mean - train_scores_std,\n",
    "                     train_scores_mean + train_scores_std, alpha=0.1,\n",
    "                     color=\"r\")\n",
    "    plt.fill_between(train_sizes, test_scores_mean - test_scores_std,\n",
    "                     test_scores_mean + test_scores_std, alpha=0.1, color=\"g\")\n",
    "    plt.plot(train_sizes, train_scores_mean, 'o-', color=\"r\",\n",
    "             label=\"Training score\")\n",
    "    plt.plot(train_sizes, test_scores_mean, 'o-', color=\"g\",\n",
    "             label=\"Cross-validation score\")\n",
    "\n",
    "    plt.legend(loc=\"best\")\n",
    "    return plt\n",
    "\n",
    "for idx in passing_clfs.index:\n",
    "    cv = ShuffleSplit(n_splits=10, test_size=.20, random_state=42)\n",
    "    estimator = classifiers[idx]\n",
    "    title = repr(estimator).split('(')[0] + ' Learning Curve'\n",
    "    plot_learning_curve(estimator, title, features_train, labels_train, cv=cv)\n",
    "    plt.show()"
   ]
  },
  {
   "cell_type": "markdown",
   "metadata": {},
   "source": [
    "# Free-Response #5\n",
    "In cross-validation, you evaluate how well your model is able to generalize by running the trained model with a testing data set. The purpose of validation is to confirm that your model is an accurate representation of the patterns found in the data rather than being overfit or underfit to the training set.\n",
    "\n",
    "My validation strategy was to use the ShuffleSplit module to create a cross-validation set with 10 splits, and then plot the learning curve for passing classifiers to check for bias and variance. Learning curves are used to determine if the model performs better with more training examples by showing the prediction accuracy vs. the training set size. Based on the plots above, I believe that my KNeighbors classifier suffers from overfitting since the training score is universally high, while the cross-validation score decreases with more training examples. For the DecisionTree classifier, I see that the training and cross-validation scores converge with more training examples suggesting a decent balance between bias and variance."
   ]
  },
  {
   "cell_type": "markdown",
   "metadata": {},
   "source": [
    "# Free-Response #6\n",
    "In order to select a model with a well-rounded performance, I used a combination of metrics including:\n",
    "\n",
    "* Accuracy = (true positives + true negatives) / (total examples)\n",
    "* Precision = (true positives) / (true positives + false positives)\n",
    "* Recall = (true positives) / (true positives + false negatives)\n",
    "* F1 score = (2 x precision x recall) / (precision + recall)\n",
    "\n",
    "In the context of this project, the precision score (aka positive predictive value) measures how certain we are that a person is a POI when the algorithm identifies them as one, while the recall score (aka sensitivity) is the proportion of POIs that the algorithm accurately guesses as POIs.\n",
    "\n",
    "After filtering out classifiers that did not have at least a 0.3 precision and recall score, only the tuned versions of KNeighbors and DecisionTree remained. Both had high recall scores and middling precision scores, but in the case of searching for POIs, I would much prefer false positives to false negatives. At first glance, KNeighbors appeared to perform better with an F1 Score of 0.571429 to the DecisionTree's 0.5. However, based on my earlier learning curve analysis the KNeighbors is actually overfit to my training data; therefore I decided to proceed with the tuned DecisionTree as my final algorithm!\n",
    "\n",
    "> DecisionTreeClassifier(class_weight='balanced', criterion='gini', max_depth=3,\n",
    "            max_features=None, max_leaf_nodes=None,\n",
    "            min_impurity_split=1e-07, min_samples_leaf=2,\n",
    "            min_samples_split=5, min_weight_fraction_leaf=0.0,\n",
    "            presort=True, random_state=5, splitter='best')"
   ]
  },
  {
   "cell_type": "markdown",
   "metadata": {},
   "source": [
    "### Selected Algorithm"
   ]
  },
  {
   "cell_type": "code",
   "execution_count": 39,
   "metadata": {
    "collapsed": false
   },
   "outputs": [
    {
     "name": "stdout",
     "output_type": "stream",
     "text": [
      "DecisionTreeClassifier(class_weight='balanced', criterion='gini', max_depth=3,\n",
      "            max_features=None, max_leaf_nodes=None,\n",
      "            min_impurity_split=1e-07, min_samples_leaf=2,\n",
      "            min_samples_split=5, min_weight_fraction_leaf=0.0,\n",
      "            presort=True, random_state=5, splitter='best')\n"
     ]
    }
   ],
   "source": [
    "winner = classifiers[5]\n",
    "print winner"
   ]
  },
  {
   "cell_type": "code",
   "execution_count": 40,
   "metadata": {
    "collapsed": true
   },
   "outputs": [],
   "source": [
    "output = pd.DataFrame(labels_test)\n",
    "y_guess = winner.predict(features_test)\n",
    "output['guess'] = y_guess"
   ]
  },
  {
   "cell_type": "code",
   "execution_count": 41,
   "metadata": {
    "collapsed": false
   },
   "outputs": [
    {
     "data": {
      "text/html": [
       "<div>\n",
       "<style>\n",
       "    .dataframe thead tr:only-child th {\n",
       "        text-align: right;\n",
       "    }\n",
       "\n",
       "    .dataframe thead th {\n",
       "        text-align: left;\n",
       "    }\n",
       "\n",
       "    .dataframe tbody tr th {\n",
       "        vertical-align: top;\n",
       "    }\n",
       "</style>\n",
       "<table border=\"1\" class=\"dataframe\">\n",
       "  <thead>\n",
       "    <tr style=\"text-align: right;\">\n",
       "      <th></th>\n",
       "      <th>poi</th>\n",
       "      <th>guess</th>\n",
       "    </tr>\n",
       "  </thead>\n",
       "  <tbody>\n",
       "    <tr>\n",
       "      <th>GLISAN JR BEN F</th>\n",
       "      <td>True</td>\n",
       "      <td>True</td>\n",
       "    </tr>\n",
       "    <tr>\n",
       "      <th>FASTOW ANDREW S</th>\n",
       "      <td>True</td>\n",
       "      <td>True</td>\n",
       "    </tr>\n",
       "  </tbody>\n",
       "</table>\n",
       "</div>"
      ],
      "text/plain": [
       "                  poi  guess\n",
       "GLISAN JR BEN F  True   True\n",
       "FASTOW ANDREW S  True   True"
      ]
     },
     "execution_count": 41,
     "metadata": {},
     "output_type": "execute_result"
    }
   ],
   "source": [
    "# TRUE POSITIVES\n",
    "output[(output.poi) & (output.guess)]"
   ]
  },
  {
   "cell_type": "code",
   "execution_count": 42,
   "metadata": {
    "collapsed": false
   },
   "outputs": [
    {
     "data": {
      "text/html": [
       "<div>\n",
       "<style>\n",
       "    .dataframe thead tr:only-child th {\n",
       "        text-align: right;\n",
       "    }\n",
       "\n",
       "    .dataframe thead th {\n",
       "        text-align: left;\n",
       "    }\n",
       "\n",
       "    .dataframe tbody tr th {\n",
       "        vertical-align: top;\n",
       "    }\n",
       "</style>\n",
       "<table border=\"1\" class=\"dataframe\">\n",
       "  <thead>\n",
       "    <tr style=\"text-align: right;\">\n",
       "      <th></th>\n",
       "      <th>poi</th>\n",
       "      <th>guess</th>\n",
       "    </tr>\n",
       "  </thead>\n",
       "  <tbody>\n",
       "  </tbody>\n",
       "</table>\n",
       "</div>"
      ],
      "text/plain": [
       "Empty DataFrame\n",
       "Columns: [poi, guess]\n",
       "Index: []"
      ]
     },
     "execution_count": 42,
     "metadata": {},
     "output_type": "execute_result"
    }
   ],
   "source": [
    "# FALSE NEGATIVES\n",
    "output[(output.poi == True) & (output.guess == False)]"
   ]
  },
  {
   "cell_type": "code",
   "execution_count": 43,
   "metadata": {
    "collapsed": false
   },
   "outputs": [
    {
     "data": {
      "text/html": [
       "<div>\n",
       "<style>\n",
       "    .dataframe thead tr:only-child th {\n",
       "        text-align: right;\n",
       "    }\n",
       "\n",
       "    .dataframe thead th {\n",
       "        text-align: left;\n",
       "    }\n",
       "\n",
       "    .dataframe tbody tr th {\n",
       "        vertical-align: top;\n",
       "    }\n",
       "</style>\n",
       "<table border=\"1\" class=\"dataframe\">\n",
       "  <thead>\n",
       "    <tr style=\"text-align: right;\">\n",
       "      <th></th>\n",
       "      <th>poi</th>\n",
       "      <th>guess</th>\n",
       "    </tr>\n",
       "  </thead>\n",
       "  <tbody>\n",
       "    <tr>\n",
       "      <th>DERRICK JR. JAMES V</th>\n",
       "      <td>False</td>\n",
       "      <td>True</td>\n",
       "    </tr>\n",
       "    <tr>\n",
       "      <th>GARLAND C KEVIN</th>\n",
       "      <td>False</td>\n",
       "      <td>True</td>\n",
       "    </tr>\n",
       "    <tr>\n",
       "      <th>LINDHOLM TOD A</th>\n",
       "      <td>False</td>\n",
       "      <td>True</td>\n",
       "    </tr>\n",
       "    <tr>\n",
       "      <th>HICKERSON GARY J</th>\n",
       "      <td>False</td>\n",
       "      <td>True</td>\n",
       "    </tr>\n",
       "  </tbody>\n",
       "</table>\n",
       "</div>"
      ],
      "text/plain": [
       "                       poi  guess\n",
       "DERRICK JR. JAMES V  False   True\n",
       "GARLAND C KEVIN      False   True\n",
       "LINDHOLM TOD A       False   True\n",
       "HICKERSON GARY J     False   True"
      ]
     },
     "execution_count": 43,
     "metadata": {},
     "output_type": "execute_result"
    }
   ],
   "source": [
    "# FALSE POSITIVES\n",
    "output[(output.poi == False) & (output.guess == True)]"
   ]
  },
  {
   "cell_type": "code",
   "execution_count": 44,
   "metadata": {
    "collapsed": false
   },
   "outputs": [
    {
     "data": {
      "text/html": [
       "<div>\n",
       "<style>\n",
       "    .dataframe thead tr:only-child th {\n",
       "        text-align: right;\n",
       "    }\n",
       "\n",
       "    .dataframe thead th {\n",
       "        text-align: left;\n",
       "    }\n",
       "\n",
       "    .dataframe tbody tr th {\n",
       "        vertical-align: top;\n",
       "    }\n",
       "</style>\n",
       "<table border=\"1\" class=\"dataframe\">\n",
       "  <thead>\n",
       "    <tr style=\"text-align: right;\">\n",
       "      <th></th>\n",
       "      <th>poi</th>\n",
       "      <th>guess</th>\n",
       "    </tr>\n",
       "  </thead>\n",
       "  <tbody>\n",
       "    <tr>\n",
       "      <th>FUGH JOHN L</th>\n",
       "      <td>False</td>\n",
       "      <td>False</td>\n",
       "    </tr>\n",
       "    <tr>\n",
       "      <th>HAYES ROBERT E</th>\n",
       "      <td>False</td>\n",
       "      <td>False</td>\n",
       "    </tr>\n",
       "    <tr>\n",
       "      <th>SULLIVAN-SHAKLOVITZ COLLEEN</th>\n",
       "      <td>False</td>\n",
       "      <td>False</td>\n",
       "    </tr>\n",
       "    <tr>\n",
       "      <th>BANNANTINE JAMES M</th>\n",
       "      <td>False</td>\n",
       "      <td>False</td>\n",
       "    </tr>\n",
       "    <tr>\n",
       "      <th>PAI LOU L</th>\n",
       "      <td>False</td>\n",
       "      <td>False</td>\n",
       "    </tr>\n",
       "    <tr>\n",
       "      <th>BECK SALLY W</th>\n",
       "      <td>False</td>\n",
       "      <td>False</td>\n",
       "    </tr>\n",
       "    <tr>\n",
       "      <th>KISHKILL JOSEPH G</th>\n",
       "      <td>False</td>\n",
       "      <td>False</td>\n",
       "    </tr>\n",
       "    <tr>\n",
       "      <th>MARTIN AMANDA K</th>\n",
       "      <td>False</td>\n",
       "      <td>False</td>\n",
       "    </tr>\n",
       "    <tr>\n",
       "      <th>JAEDICKE ROBERT</th>\n",
       "      <td>False</td>\n",
       "      <td>False</td>\n",
       "    </tr>\n",
       "    <tr>\n",
       "      <th>SHANKMAN JEFFREY A</th>\n",
       "      <td>False</td>\n",
       "      <td>False</td>\n",
       "    </tr>\n",
       "    <tr>\n",
       "      <th>LEWIS RICHARD</th>\n",
       "      <td>False</td>\n",
       "      <td>False</td>\n",
       "    </tr>\n",
       "    <tr>\n",
       "      <th>POWERS WILLIAM</th>\n",
       "      <td>False</td>\n",
       "      <td>False</td>\n",
       "    </tr>\n",
       "    <tr>\n",
       "      <th>HUMPHREY GENE E</th>\n",
       "      <td>False</td>\n",
       "      <td>False</td>\n",
       "    </tr>\n",
       "    <tr>\n",
       "      <th>WESTFAHL RICHARD K</th>\n",
       "      <td>False</td>\n",
       "      <td>False</td>\n",
       "    </tr>\n",
       "    <tr>\n",
       "      <th>BUCHANAN HAROLD G</th>\n",
       "      <td>False</td>\n",
       "      <td>False</td>\n",
       "    </tr>\n",
       "    <tr>\n",
       "      <th>NOLES JAMES L</th>\n",
       "      <td>False</td>\n",
       "      <td>False</td>\n",
       "    </tr>\n",
       "    <tr>\n",
       "      <th>BAXTER JOHN C</th>\n",
       "      <td>False</td>\n",
       "      <td>False</td>\n",
       "    </tr>\n",
       "    <tr>\n",
       "      <th>URQUHART JOHN A</th>\n",
       "      <td>False</td>\n",
       "      <td>False</td>\n",
       "    </tr>\n",
       "    <tr>\n",
       "      <th>SAVAGE FRANK</th>\n",
       "      <td>False</td>\n",
       "      <td>False</td>\n",
       "    </tr>\n",
       "    <tr>\n",
       "      <th>GATHMANN WILLIAM D</th>\n",
       "      <td>False</td>\n",
       "      <td>False</td>\n",
       "    </tr>\n",
       "    <tr>\n",
       "      <th>BERBERIAN DAVID</th>\n",
       "      <td>False</td>\n",
       "      <td>False</td>\n",
       "    </tr>\n",
       "    <tr>\n",
       "      <th>FREVERT MARK A</th>\n",
       "      <td>False</td>\n",
       "      <td>False</td>\n",
       "    </tr>\n",
       "    <tr>\n",
       "      <th>METTS MARK</th>\n",
       "      <td>False</td>\n",
       "      <td>False</td>\n",
       "    </tr>\n",
       "  </tbody>\n",
       "</table>\n",
       "</div>"
      ],
      "text/plain": [
       "                               poi  guess\n",
       "FUGH JOHN L                  False  False\n",
       "HAYES ROBERT E               False  False\n",
       "SULLIVAN-SHAKLOVITZ COLLEEN  False  False\n",
       "BANNANTINE JAMES M           False  False\n",
       "PAI LOU L                    False  False\n",
       "BECK SALLY W                 False  False\n",
       "KISHKILL JOSEPH G            False  False\n",
       "MARTIN AMANDA K              False  False\n",
       "JAEDICKE ROBERT              False  False\n",
       "SHANKMAN JEFFREY A           False  False\n",
       "LEWIS RICHARD                False  False\n",
       "POWERS WILLIAM               False  False\n",
       "HUMPHREY GENE E              False  False\n",
       "WESTFAHL RICHARD K           False  False\n",
       "BUCHANAN HAROLD G            False  False\n",
       "NOLES JAMES L                False  False\n",
       "BAXTER JOHN C                False  False\n",
       "URQUHART JOHN A              False  False\n",
       "SAVAGE FRANK                 False  False\n",
       "GATHMANN WILLIAM D           False  False\n",
       "BERBERIAN DAVID              False  False\n",
       "FREVERT MARK A               False  False\n",
       "METTS MARK                   False  False"
      ]
     },
     "execution_count": 44,
     "metadata": {},
     "output_type": "execute_result"
    }
   ],
   "source": [
    "# TRUE NEGATIVES\n",
    "output[(output.poi == False) & (output.guess == False)]"
   ]
  }
 ],
 "metadata": {
  "anaconda-cloud": {},
  "kernelspec": {
   "display_name": "Python [Root]",
   "language": "python",
   "name": "Python [Root]"
  },
  "language_info": {
   "codemirror_mode": {
    "name": "ipython",
    "version": 2
   },
   "file_extension": ".py",
   "mimetype": "text/x-python",
   "name": "python",
   "nbconvert_exporter": "python",
   "pygments_lexer": "ipython2",
   "version": "2.7.13"
  }
 },
 "nbformat": 4,
 "nbformat_minor": 0
}
